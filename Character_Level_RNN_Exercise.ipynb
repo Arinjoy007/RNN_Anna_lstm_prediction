{
  "nbformat": 4,
  "nbformat_minor": 0,
  "metadata": {
    "kernelspec": {
      "display_name": "Python 3",
      "language": "python",
      "name": "python3"
    },
    "language_info": {
      "codemirror_mode": {
        "name": "ipython",
        "version": 3
      },
      "file_extension": ".py",
      "mimetype": "text/x-python",
      "name": "python",
      "nbconvert_exporter": "python",
      "pygments_lexer": "ipython3",
      "version": "3.6.3"
    },
    "colab": {
      "name": "Character_Level_RNN_Exercise.ipynb",
      "provenance": [],
      "toc_visible": true,
      "include_colab_link": true
    }
  },
  "cells": [
    {
      "cell_type": "markdown",
      "metadata": {
        "id": "view-in-github",
        "colab_type": "text"
      },
      "source": [
        "<a href=\"https://colab.research.google.com/github/Arinjoy007/RNN_Anna_lstm_prediction/blob/master/Character_Level_RNN_Exercise.ipynb\" target=\"_parent\"><img src=\"https://colab.research.google.com/assets/colab-badge.svg\" alt=\"Open In Colab\"/></a>"
      ]
    },
    {
      "cell_type": "markdown",
      "metadata": {
        "id": "Z9RFQ5yLsWo0",
        "colab_type": "text"
      },
      "source": [
        "# Character-Level LSTM in PyTorch\n",
        "\n",
        "In this notebook, I'll construct a character-level LSTM with PyTorch. The network will train character by character on some text, then generate new text character by character. As an example, I will train on Anna Karenina. **This model will be able to generate new text based on the text from the book!**\n",
        "\n",
        "This network is based off of Andrej Karpathy's [post on RNNs](http://karpathy.github.io/2015/05/21/rnn-effectiveness/) and [implementation in Torch](https://github.com/karpathy/char-rnn). Below is the general architecture of the character-wise RNN.\n",
        "\n",
        "<img src=\"assets/charseq.jpeg\" width=\"500\">"
      ]
    },
    {
      "cell_type": "markdown",
      "metadata": {
        "id": "fMPt3vWfsWo1",
        "colab_type": "text"
      },
      "source": [
        "First let's load in our required resources for data loading and model creation."
      ]
    },
    {
      "cell_type": "code",
      "metadata": {
        "id": "Fgxc_M2QsWo2",
        "colab_type": "code",
        "colab": {}
      },
      "source": [
        "import numpy as np\n",
        "import torch\n",
        "from torch import nn\n",
        "import torch.nn.functional as F"
      ],
      "execution_count": 15,
      "outputs": []
    },
    {
      "cell_type": "markdown",
      "metadata": {
        "id": "7Q51vgKSsWo9",
        "colab_type": "text"
      },
      "source": [
        "## Load in Data\n",
        "\n",
        "Then, we'll load the Anna Karenina text file and convert it into integers for our network to use. "
      ]
    },
    {
      "cell_type": "code",
      "metadata": {
        "id": "5m4s-kmdsWo9",
        "colab_type": "code",
        "colab": {}
      },
      "source": [
        "# open text file and read in data as `text`\n",
        "with open('Anna.txt', 'r') as f:\n",
        "    text = f.read()"
      ],
      "execution_count": 16,
      "outputs": []
    },
    {
      "cell_type": "markdown",
      "metadata": {
        "id": "56SOfIzDsWpF",
        "colab_type": "text"
      },
      "source": [
        "Let's check out the first 100 characters, make sure everything is peachy. According to the [American Book Review](http://americanbookreview.org/100bestlines.asp), this is the 6th best first line of a book ever."
      ]
    },
    {
      "cell_type": "code",
      "metadata": {
        "id": "-eBbBbZKsWpG",
        "colab_type": "code",
        "colab": {
          "base_uri": "https://localhost:8080/",
          "height": 35
        },
        "outputId": "b8a085d8-fb83-405d-9fa6-36620c63dc07"
      },
      "source": [
        "text[:100]"
      ],
      "execution_count": 17,
      "outputs": [
        {
          "output_type": "execute_result",
          "data": {
            "application/vnd.google.colaboratory.intrinsic+json": {
              "type": "string"
            },
            "text/plain": [
              "'Chapter 1\\n\\n\\nHappy families are all alike; every unhappy family is unhappy in its own\\nway.\\n\\nEverythin'"
            ]
          },
          "metadata": {
            "tags": []
          },
          "execution_count": 17
        }
      ]
    },
    {
      "cell_type": "markdown",
      "metadata": {
        "id": "3DSt3YGKsWpK",
        "colab_type": "text"
      },
      "source": [
        "### Tokenization\n",
        "\n",
        "In the cells, below, I'm creating a couple **dictionaries** to convert the characters to and from integers. Encoding the characters as integers makes it easier to use as input in the network."
      ]
    },
    {
      "cell_type": "code",
      "metadata": {
        "id": "eJBY1bIPsWpL",
        "colab_type": "code",
        "colab": {}
      },
      "source": [
        "# encode the text and map each character to an integer and vice versa\n",
        "\n",
        "# we create two dictionaries:\n",
        "# 1. int2char, which maps integers to characters\n",
        "# 2. char2int, which maps characters to unique integers\n",
        "chars = tuple(set(text))\n",
        "int2char = dict(enumerate(chars))\n",
        "char2int = {ch: ii for ii, ch in int2char.items()}\n",
        "\n",
        "# encode the text\n",
        "encoded = np.array([char2int[ch] for ch in text])"
      ],
      "execution_count": 18,
      "outputs": []
    },
    {
      "cell_type": "markdown",
      "metadata": {
        "id": "xzW_pvKfsWpR",
        "colab_type": "text"
      },
      "source": [
        "And we can see those same characters from above, encoded as integers."
      ]
    },
    {
      "cell_type": "code",
      "metadata": {
        "id": "zIiGprV1sWpR",
        "colab_type": "code",
        "colab": {
          "base_uri": "https://localhost:8080/",
          "height": 119
        },
        "outputId": "c4b4c7bb-3745-4489-f9bd-e9528e039875"
      },
      "source": [
        "encoded[:100]"
      ],
      "execution_count": 19,
      "outputs": [
        {
          "output_type": "execute_result",
          "data": {
            "text/plain": [
              "array([47,  9, 76, 61, 10, 40, 75, 63, 33, 16, 16, 16, 11, 76, 61, 61, 54,\n",
              "       63, 29, 76, 70, 57,  8, 57, 40, 28, 63, 76, 75, 40, 63, 76,  8,  8,\n",
              "       63, 76,  8, 57,  4, 40, 55, 63, 40, 69, 40, 75, 54, 63, 59, 82,  9,\n",
              "       76, 61, 61, 54, 63, 29, 76, 70, 57,  8, 54, 63, 57, 28, 63, 59, 82,\n",
              "        9, 76, 61, 61, 54, 63, 57, 82, 63, 57, 10, 28, 63, 62, 25, 82, 16,\n",
              "       25, 76, 54, 81, 16, 16, 35, 69, 40, 75, 54, 10,  9, 57, 82])"
            ]
          },
          "metadata": {
            "tags": []
          },
          "execution_count": 19
        }
      ]
    },
    {
      "cell_type": "markdown",
      "metadata": {
        "id": "3vfYxalxsWpW",
        "colab_type": "text"
      },
      "source": [
        "## Pre-processing the data\n",
        "\n",
        "As you can see in our char-RNN image above, our LSTM expects an input that is **one-hot encoded** meaning that each character is converted into an integer (via our created dictionary) and *then* converted into a column vector where only it's corresponding integer index will have the value of 1 and the rest of the vector will be filled with 0's. Since we're one-hot encoding the data, let's make a function to do that!\n"
      ]
    },
    {
      "cell_type": "code",
      "metadata": {
        "id": "cllQxYTMsWpW",
        "colab_type": "code",
        "colab": {}
      },
      "source": [
        "def one_hot_encode(arr, n_labels):\n",
        "    \n",
        "    # Initialize the the encoded array\n",
        "    one_hot = np.zeros((np.multiply(*arr.shape), n_labels), dtype=np.float32)\n",
        "    \n",
        "    # Fill the appropriate elements with ones\n",
        "    one_hot[np.arange(one_hot.shape[0]), arr.flatten()] = 1.\n",
        "    \n",
        "    # Finally reshape it to get back to the original array\n",
        "    one_hot = one_hot.reshape((*arr.shape, n_labels))\n",
        "    \n",
        "    return one_hot"
      ],
      "execution_count": 20,
      "outputs": []
    },
    {
      "cell_type": "code",
      "metadata": {
        "id": "fsMgLRy1sWpb",
        "colab_type": "code",
        "colab": {
          "base_uri": "https://localhost:8080/",
          "height": 68
        },
        "outputId": "364fc1e7-cfb7-449f-c8aa-14952aaf23f7"
      },
      "source": [
        "# check that the function works as expected\n",
        "test_seq = np.array([[3, 5, 1]])\n",
        "one_hot = one_hot_encode(test_seq, 8)\n",
        "\n",
        "print(one_hot)"
      ],
      "execution_count": 21,
      "outputs": [
        {
          "output_type": "stream",
          "text": [
            "[[[0. 0. 0. 1. 0. 0. 0. 0.]\n",
            "  [0. 0. 0. 0. 0. 1. 0. 0.]\n",
            "  [0. 1. 0. 0. 0. 0. 0. 0.]]]\n"
          ],
          "name": "stdout"
        }
      ]
    },
    {
      "cell_type": "markdown",
      "metadata": {
        "id": "P9lh-X5_sWpg",
        "colab_type": "text"
      },
      "source": [
        "## Making training mini-batches\n",
        "\n",
        "\n",
        "To train on this data, we also want to create mini-batches for training. Remember that we want our batches to be multiple sequences of some desired number of sequence steps. Considering a simple example, our batches would look like this:\n",
        "\n",
        "<img src=\"assets/sequence_batching@1x.png\" width=500px>\n",
        "\n",
        "\n",
        "<br>\n",
        "\n",
        "In this example, we'll take the encoded characters (passed in as the `arr` parameter) and split them into multiple sequences, given by `batch_size`. Each of our sequences will be `seq_length` long.\n",
        "\n",
        "### Creating Batches\n",
        "\n",
        "**1. The first thing we need to do is discard some of the text so we only have completely full mini-batches. **\n",
        "\n",
        "Each batch contains $N \\times M$ characters, where $N$ is the batch size (the number of sequences in a batch) and $M$ is the seq_length or number of time steps in a sequence. Then, to get the total number of batches, $K$, that we can make from the array `arr`, you divide the length of `arr` by the number of characters per batch. Once you know the number of batches, you can get the total number of characters to keep from `arr`, $N * M * K$.\n",
        "\n",
        "**2. After that, we need to split `arr` into $N$ batches. ** \n",
        "\n",
        "You can do this using `arr.reshape(size)` where `size` is a tuple containing the dimensions sizes of the reshaped array. We know we want $N$ sequences in a batch, so let's make that the size of the first dimension. For the second dimension, you can use `-1` as a placeholder in the size, it'll fill up the array with the appropriate data for you. After this, you should have an array that is $N \\times (M * K)$.\n",
        "\n",
        "**3. Now that we have this array, we can iterate through it to get our mini-batches. **\n",
        "\n",
        "The idea is each batch is a $N \\times M$ window on the $N \\times (M * K)$ array. For each subsequent batch, the window moves over by `seq_length`. We also want to create both the input and target arrays. Remember that the targets are just the inputs shifted over by one character. The way I like to do this window is use `range` to take steps of size `n_steps` from $0$ to `arr.shape[1]`, the total number of tokens in each sequence. That way, the integers you get from `range` always point to the start of a batch, and each window is `seq_length` wide.\n",
        "\n",
        "> **TODO:** Write the code for creating batches in the function below. The exercises in this notebook _will not be easy_. I've provided a notebook with solutions alongside this notebook. If you get stuck, checkout the solutions. The most important thing is that you don't copy and paste the code into here, **type out the solution code yourself.**"
      ]
    },
    {
      "cell_type": "code",
      "metadata": {
        "id": "kJlY0SBQsWph",
        "colab_type": "code",
        "colab": {}
      },
      "source": [
        "def get_batches(arr, batch_size, seq_length):\n",
        "    '''Create a generator that returns batches of size\n",
        "       batch_size x seq_length from arr.\n",
        "       \n",
        "       Arguments\n",
        "       ---------\n",
        "       arr: Array you want to make batches from\n",
        "       batch_size: Batch size, the number of sequences per batch\n",
        "       seq_length: Number of encoded chars in a sequence\n",
        "    '''\n",
        "    \n",
        "    ## TODO: Get the number of batches we can make\n",
        "    n_batches = (len(arr))//(batch_size*seq_length)\n",
        "    \n",
        "    ## TODO: Keep only enough characters to make full batches\n",
        "    arr = arr[:(n_batches*batch_size*seq_length)]\n",
        "    \n",
        "    ## TODO: Reshape into batch_size rows\n",
        "    size=(batch_size,-1)\n",
        "    arr = arr.reshape(size)\n",
        "    \n",
        "    ## TODO: Iterate over the batches using a window of size seq_length\n",
        "    for n in range(0, arr.shape[1], seq_length):\n",
        "        # The features\n",
        "        x = arr[:, n:n+seq_length]\n",
        "        # The targets, shifted by one\n",
        "        y = np.zeros_like(x)\n",
        "        try:\n",
        "          y[:, :-1],y[:, -1]=x[:,1:], arr[:,n+seq_length]\n",
        "        except IndexError:\n",
        "          y[:, :-1],y[:, -1]=x[:,1:], arr[:,0]\n",
        "        yield x, y"
      ],
      "execution_count": 22,
      "outputs": []
    },
    {
      "cell_type": "markdown",
      "metadata": {
        "id": "yVxpVoyXsWpk",
        "colab_type": "text"
      },
      "source": [
        "### Test Your Implementation\n",
        "\n",
        "Now I'll make some data sets and we can check out what's going on as we batch data. Here, as an example, I'm going to use a batch size of 8 and 50 sequence steps."
      ]
    },
    {
      "cell_type": "code",
      "metadata": {
        "id": "m8VW8XbxsWpl",
        "colab_type": "code",
        "colab": {}
      },
      "source": [
        "batches = get_batches(encoded, 8, 50)\n",
        "x, y = next(batches)"
      ],
      "execution_count": 23,
      "outputs": []
    },
    {
      "cell_type": "code",
      "metadata": {
        "id": "gITSNj8isWpp",
        "colab_type": "code",
        "colab": {
          "base_uri": "https://localhost:8080/",
          "height": 340
        },
        "outputId": "4e20b26d-642b-43ae-a6cc-3c31277517dc"
      },
      "source": [
        "# printing out the first 10 items in a sequence\n",
        "print('x\\n', x[:10, :10])\n",
        "print('\\ny\\n', y[:10, :10])"
      ],
      "execution_count": 24,
      "outputs": [
        {
          "output_type": "stream",
          "text": [
            "x\n",
            " [[47  9 76 61 10 40 75 63 33 16]\n",
            " [28 62 82 63 10  9 76 10 63 76]\n",
            " [40 82 71 63 62 75 63 76 63 29]\n",
            " [28 63 10  9 40 63 23  9 57 40]\n",
            " [63 28 76 25 63  9 40 75 63 10]\n",
            " [23 59 28 28 57 62 82 63 76 82]\n",
            " [63  0 82 82 76 63  9 76 71 63]\n",
            " [19  6  8 62 82 28  4 54 81 63]]\n",
            "\n",
            "y\n",
            " [[ 9 76 61 10 40 75 63 33 16 16]\n",
            " [62 82 63 10  9 76 10 63 76 10]\n",
            " [82 71 63 62 75 63 76 63 29 62]\n",
            " [63 10  9 40 63 23  9 57 40 29]\n",
            " [28 76 25 63  9 40 75 63 10 40]\n",
            " [59 28 28 57 62 82 63 76 82 71]\n",
            " [ 0 82 82 76 63  9 76 71 63 28]\n",
            " [ 6  8 62 82 28  4 54 81 63  2]]\n"
          ],
          "name": "stdout"
        }
      ]
    },
    {
      "cell_type": "markdown",
      "metadata": {
        "id": "nDdVkG9XsWpx",
        "colab_type": "text"
      },
      "source": [
        "If you implemented `get_batches` correctly, the above output should look something like \n",
        "```\n",
        "x\n",
        " [[25  8 60 11 45 27 28 73  1  2]\n",
        " [17  7 20 73 45  8 60 45 73 60]\n",
        " [27 20 80 73  7 28 73 60 73 65]\n",
        " [17 73 45  8 27 73 66  8 46 27]\n",
        " [73 17 60 12 73  8 27 28 73 45]\n",
        " [66 64 17 17 46  7 20 73 60 20]\n",
        " [73 76 20 20 60 73  8 60 80 73]\n",
        " [47 35 43  7 20 17 24 50 37 73]]\n",
        "\n",
        "y\n",
        " [[ 8 60 11 45 27 28 73  1  2  2]\n",
        " [ 7 20 73 45  8 60 45 73 60 45]\n",
        " [20 80 73  7 28 73 60 73 65  7]\n",
        " [73 45  8 27 73 66  8 46 27 65]\n",
        " [17 60 12 73  8 27 28 73 45 27]\n",
        " [64 17 17 46  7 20 73 60 20 80]\n",
        " [76 20 20 60 73  8 60 80 73 17]\n",
        " [35 43  7 20 17 24 50 37 73 36]]\n",
        " ```\n",
        " although the exact numbers may be different. Check to make sure the data is shifted over one step for `y`."
      ]
    },
    {
      "cell_type": "markdown",
      "metadata": {
        "id": "coy0bEG9sWpx",
        "colab_type": "text"
      },
      "source": [
        "---\n",
        "## Defining the network with PyTorch\n",
        "\n",
        "Below is where you'll define the network.\n",
        "\n",
        "<img src=\"assets/charRNN.png\" width=500px>\n",
        "\n",
        "Next, you'll use PyTorch to define the architecture of the network. We start by defining the layers and operations we want. Then, define a method for the forward pass. You've also been given a method for predicting characters."
      ]
    },
    {
      "cell_type": "markdown",
      "metadata": {
        "id": "iMh-ZcCusWpy",
        "colab_type": "text"
      },
      "source": [
        "### Model Structure\n",
        "\n",
        "In `__init__` the suggested structure is as follows:\n",
        "* Create and store the necessary dictionaries (this has been done for you)\n",
        "* Define an LSTM layer that takes as params: an input size (the number of characters), a hidden layer size `n_hidden`, a number of layers `n_layers`, a dropout probability `drop_prob`, and a batch_first boolean (True, since we are batching)\n",
        "* Define a dropout layer with `dropout_prob`\n",
        "* Define a fully-connected layer with params: input size `n_hidden` and output size (the number of characters)\n",
        "* Finally, initialize the weights (again, this has been given)\n",
        "\n",
        "Note that some parameters have been named and given in the `__init__` function, and we use them and store them by doing something like `self.drop_prob = drop_prob`."
      ]
    },
    {
      "cell_type": "markdown",
      "metadata": {
        "id": "nRbceVNqsWpz",
        "colab_type": "text"
      },
      "source": [
        "---\n",
        "### LSTM Inputs/Outputs\n",
        "\n",
        "You can create a basic [LSTM layer](https://pytorch.org/docs/stable/nn.html#lstm) as follows\n",
        "\n",
        "```python\n",
        "self.lstm = nn.LSTM(input_size, n_hidden, n_layers, \n",
        "                            dropout=drop_prob, batch_first=True)\n",
        "```\n",
        "\n",
        "where `input_size` is the number of characters this cell expects to see as sequential input, and `n_hidden` is the number of units in the hidden layers in the cell. And we can add dropout by adding a dropout parameter with a specified probability; this will automatically add dropout to the inputs or outputs. Finally, in the `forward` function, we can stack up the LSTM cells into layers using `.view`. With this, you pass in a list of cells and it will send the output of one cell into the next cell.\n",
        "\n",
        "We also need to create an initial hidden state of all zeros. This is done like so\n",
        "\n",
        "```python\n",
        "self.init_hidden()\n",
        "```"
      ]
    },
    {
      "cell_type": "code",
      "metadata": {
        "id": "eA3K_TZfsWp0",
        "colab_type": "code",
        "colab": {
          "base_uri": "https://localhost:8080/",
          "height": 34
        },
        "outputId": "6b35fac7-885b-4c6f-b1b3-431432b5bddf"
      },
      "source": [
        "# check if GPU is available\n",
        "train_on_gpu = torch.cuda.is_available()\n",
        "if(train_on_gpu):\n",
        "    print('Training on GPU!')\n",
        "else: \n",
        "    print('No GPU available, training on CPU; consider making n_epochs very small.')"
      ],
      "execution_count": 25,
      "outputs": [
        {
          "output_type": "stream",
          "text": [
            "Training on GPU!\n"
          ],
          "name": "stdout"
        }
      ]
    },
    {
      "cell_type": "code",
      "metadata": {
        "id": "GvsZb0ZlsWp5",
        "colab_type": "code",
        "colab": {}
      },
      "source": [
        "class CharRNN(nn.Module):\n",
        "    \n",
        "    def __init__(self, tokens, n_hidden=256, n_layers=2,\n",
        "                               drop_prob=0.5, lr=0.001):\n",
        "        super().__init__()\n",
        "        self.drop_prob = drop_prob\n",
        "        self.n_layers = n_layers\n",
        "        self.n_hidden = n_hidden\n",
        "        self.lr = lr\n",
        "        \n",
        "        # creating character dictionaries\n",
        "        self.chars = tokens\n",
        "        self.int2char = dict(enumerate(self.chars))\n",
        "        self.char2int = {ch: ii for ii, ch in self.int2char.items()}\n",
        "        \n",
        "        ## TODO: define the layers of the model\n",
        "        self.lstm = nn.LSTM(len(self.chars), n_hidden, n_layers, \n",
        "                            dropout=drop_prob, batch_first=True)\n",
        "        \n",
        "        self.dropout=nn.Dropout(drop_prob)\n",
        "\n",
        "        self.fc = nn.Linear(n_hidden, len(self.chars))\n",
        "      \n",
        "    \n",
        "    def forward(self, x, hidden):\n",
        "        ''' Forward pass through the network. \n",
        "            These inputs are x, and the hidden/cell state `hidden`. '''\n",
        "                \n",
        "        ## TODO: Get the outputs and the new hidden state from the lstm\n",
        "        r_output,hidden=self.lstm(x,hidden)\n",
        "\n",
        "        out=self.dropout(r_output)\n",
        "\n",
        "        out=out.contiguous().view(-1,self.n_hidden)\n",
        "\n",
        "        out=self.fc(out)\n",
        "\n",
        "        # return the final output and the hidden state\n",
        "        return out, hidden\n",
        "    \n",
        "    \n",
        "    def init_hidden(self, batch_size):\n",
        "        ''' Initializes hidden state '''\n",
        "        # Create two new tensors with sizes n_layers x batch_size x n_hidden,\n",
        "        # initialized to zero, for hidden state and cell state of LSTM\n",
        "        weight = next(self.parameters()).data\n",
        "        \n",
        "        if (train_on_gpu):\n",
        "            hidden = (weight.new(self.n_layers, batch_size, self.n_hidden).zero_().cuda(),\n",
        "                  weight.new(self.n_layers, batch_size, self.n_hidden).zero_().cuda())\n",
        "        else:\n",
        "            hidden = (weight.new(self.n_layers, batch_size, self.n_hidden).zero_(),\n",
        "                      weight.new(self.n_layers, batch_size, self.n_hidden).zero_())\n",
        "        \n",
        "        return hidden\n",
        "        "
      ],
      "execution_count": 26,
      "outputs": []
    },
    {
      "cell_type": "markdown",
      "metadata": {
        "id": "vjkNNwlcsWp9",
        "colab_type": "text"
      },
      "source": [
        "## Time to train\n",
        "\n",
        "The train function gives us the ability to set the number of epochs, the learning rate, and other parameters.\n",
        "\n",
        "Below we're using an Adam optimizer and cross entropy loss since we are looking at character class scores as output. We calculate the loss and perform backpropagation, as usual!\n",
        "\n",
        "A couple of details about training: \n",
        ">* Within the batch loop, we detach the hidden state from its history; this time setting it equal to a new *tuple* variable because an LSTM has a hidden state that is a tuple of the hidden and cell states.\n",
        "* We use [`clip_grad_norm_`](https://pytorch.org/docs/stable/_modules/torch/nn/utils/clip_grad.html) to help prevent exploding gradients."
      ]
    },
    {
      "cell_type": "code",
      "metadata": {
        "id": "jZ_XSIqJsWp-",
        "colab_type": "code",
        "colab": {}
      },
      "source": [
        "def train(net, data, epochs=10, batch_size=10, seq_length=50, lr=0.001, clip=5, val_frac=0.1, print_every=10):\n",
        "    ''' Training a network \n",
        "    \n",
        "        Arguments\n",
        "        ---------\n",
        "        \n",
        "        net: CharRNN network\n",
        "        data: text data to train the network\n",
        "        epochs: Number of epochs to train\n",
        "        batch_size: Number of mini-sequences per mini-batch, aka batch size\n",
        "        seq_length: Number of character steps per mini-batch\n",
        "        lr: learning rate\n",
        "        clip: gradient clipping\n",
        "        val_frac: Fraction of data to hold out for validation\n",
        "        print_every: Number of steps for printing training and validation loss\n",
        "    \n",
        "    '''\n",
        "    net.train()\n",
        "    \n",
        "    opt = torch.optim.Adam(net.parameters(), lr=lr)\n",
        "    criterion = nn.CrossEntropyLoss()\n",
        "    \n",
        "    # create training and validation data\n",
        "    val_idx = int(len(data)*(1-val_frac))\n",
        "    data, val_data = data[:val_idx], data[val_idx:]\n",
        "    \n",
        "    if(train_on_gpu):\n",
        "        net.cuda()\n",
        "    \n",
        "    counter = 0\n",
        "    n_chars = len(net.chars)\n",
        "    for e in range(epochs):\n",
        "        # initialize hidden state\n",
        "        h = net.init_hidden(batch_size)\n",
        "        \n",
        "        for x, y in get_batches(data, batch_size, seq_length):\n",
        "            counter += 1\n",
        "            \n",
        "            # One-hot encode our data and make them Torch tensors\n",
        "            x = one_hot_encode(x, n_chars)\n",
        "            inputs, targets = torch.from_numpy(x), torch.from_numpy(y)\n",
        "            \n",
        "            if(train_on_gpu):\n",
        "                inputs, targets = inputs.cuda(), targets.cuda()\n",
        "\n",
        "            # Creating new variables for the hidden state, otherwise\n",
        "            # we'd backprop through the entire training history\n",
        "            h = tuple([each.data for each in h])\n",
        "\n",
        "            # zero accumulated gradients\n",
        "            net.zero_grad()\n",
        "            \n",
        "            # get the output from the model\n",
        "            output, h = net(inputs, h)\n",
        "            \n",
        "            # calculate the loss and perform backprop\n",
        "            loss = criterion(output, targets.view(batch_size*seq_length))\n",
        "            loss.backward()\n",
        "            # `clip_grad_norm` helps prevent the exploding gradient problem in RNNs / LSTMs.\n",
        "            nn.utils.clip_grad_norm_(net.parameters(), clip)\n",
        "            opt.step()\n",
        "            \n",
        "            # loss stats\n",
        "            if counter % print_every == 0:\n",
        "                # Get validation loss\n",
        "                val_h = net.init_hidden(batch_size)\n",
        "                val_losses = []\n",
        "                net.eval()\n",
        "                for x, y in get_batches(val_data, batch_size, seq_length):\n",
        "                    # One-hot encode our data and make them Torch tensors\n",
        "                    x = one_hot_encode(x, n_chars)\n",
        "                    x, y = torch.from_numpy(x), torch.from_numpy(y)\n",
        "                    \n",
        "                    # Creating new variables for the hidden state, otherwise\n",
        "                    # we'd backprop through the entire training history\n",
        "                    val_h = tuple([each.data for each in val_h])\n",
        "                    \n",
        "                    inputs, targets = x, y\n",
        "                    if(train_on_gpu):\n",
        "                        inputs, targets = inputs.cuda(), targets.cuda()\n",
        "\n",
        "                    output, val_h = net(inputs, val_h)\n",
        "                    val_loss = criterion(output, targets.view(batch_size*seq_length))\n",
        "                \n",
        "                    val_losses.append(val_loss.item())\n",
        "                \n",
        "                net.train() # reset to train mode after iterationg through validation data\n",
        "                \n",
        "                print(\"Epoch: {}/{}...\".format(e+1, epochs),\n",
        "                      \"Step: {}...\".format(counter),\n",
        "                      \"Loss: {:.4f}...\".format(loss.item()),\n",
        "                      \"Val Loss: {:.4f}\".format(np.mean(val_losses)))"
      ],
      "execution_count": 27,
      "outputs": []
    },
    {
      "cell_type": "markdown",
      "metadata": {
        "id": "WV2aPQTisWqC",
        "colab_type": "text"
      },
      "source": [
        "## Instantiating the model\n",
        "\n",
        "Now we can actually train the network. First we'll create the network itself, with some given hyperparameters. Then, define the mini-batches sizes, and start training!"
      ]
    },
    {
      "cell_type": "code",
      "metadata": {
        "id": "14dQhKrYsWqC",
        "colab_type": "code",
        "colab": {
          "base_uri": "https://localhost:8080/",
          "height": 102
        },
        "outputId": "23a94e9f-6673-4a7e-82e9-8ebfbf1d5bc7"
      },
      "source": [
        "## TODO: set you model hyperparameters\n",
        "# define and print the net\n",
        "n_hidden=512\n",
        "n_layers=2\n",
        "\n",
        "net = CharRNN(chars, n_hidden, n_layers)\n",
        "print(net)"
      ],
      "execution_count": 28,
      "outputs": [
        {
          "output_type": "stream",
          "text": [
            "CharRNN(\n",
            "  (lstm): LSTM(83, 512, num_layers=2, batch_first=True, dropout=0.5)\n",
            "  (dropout): Dropout(p=0.5, inplace=False)\n",
            "  (fc): Linear(in_features=512, out_features=83, bias=True)\n",
            ")\n"
          ],
          "name": "stdout"
        }
      ]
    },
    {
      "cell_type": "markdown",
      "metadata": {
        "id": "ek7mwUQtsWqH",
        "colab_type": "text"
      },
      "source": [
        "### Set your training hyperparameters!"
      ]
    },
    {
      "cell_type": "code",
      "metadata": {
        "scrolled": true,
        "id": "yfgqDqzHsWqI",
        "colab_type": "code",
        "colab": {
          "base_uri": "https://localhost:8080/",
          "height": 1000
        },
        "outputId": "88f52728-85b5-47f9-9e80-fb3983005775"
      },
      "source": [
        "batch_size = 128\n",
        "seq_length = 80\n",
        "n_epochs = 20 # start small if you are just testing initial behavior\n",
        "\n",
        "# train the model\n",
        "train(net, encoded, epochs=n_epochs, batch_size=batch_size, seq_length=seq_length, lr=0.001, print_every=10)"
      ],
      "execution_count": 29,
      "outputs": [
        {
          "output_type": "stream",
          "text": [
            "Epoch: 1/20... Step: 10... Loss: 3.2683... Val Loss: 3.2124\n",
            "Epoch: 1/20... Step: 20... Loss: 3.1539... Val Loss: 3.1398\n",
            "Epoch: 1/20... Step: 30... Loss: 3.1361... Val Loss: 3.1262\n",
            "Epoch: 1/20... Step: 40... Loss: 3.1337... Val Loss: 3.1220\n",
            "Epoch: 1/20... Step: 50... Loss: 3.1179... Val Loss: 3.1206\n",
            "Epoch: 1/20... Step: 60... Loss: 3.1196... Val Loss: 3.1196\n",
            "Epoch: 1/20... Step: 70... Loss: 3.1204... Val Loss: 3.1180\n",
            "Epoch: 1/20... Step: 80... Loss: 3.1038... Val Loss: 3.1146\n",
            "Epoch: 1/20... Step: 90... Loss: 3.1067... Val Loss: 3.1071\n",
            "Epoch: 1/20... Step: 100... Loss: 3.1008... Val Loss: 3.0885\n",
            "Epoch: 1/20... Step: 110... Loss: 3.0257... Val Loss: 3.0363\n",
            "Epoch: 1/20... Step: 120... Loss: 2.9466... Val Loss: 2.9380\n",
            "Epoch: 1/20... Step: 130... Loss: 2.8219... Val Loss: 2.8217\n",
            "Epoch: 1/20... Step: 140... Loss: 2.7642... Val Loss: 2.7188\n",
            "Epoch: 1/20... Step: 150... Loss: 2.6265... Val Loss: 2.6058\n",
            "Epoch: 1/20... Step: 160... Loss: 2.5450... Val Loss: 2.5278\n",
            "Epoch: 1/20... Step: 170... Loss: 2.4906... Val Loss: 2.4737\n",
            "Epoch: 2/20... Step: 180... Loss: 2.4573... Val Loss: 2.4321\n",
            "Epoch: 2/20... Step: 190... Loss: 2.4305... Val Loss: 2.4013\n",
            "Epoch: 2/20... Step: 200... Loss: 2.4159... Val Loss: 2.3759\n",
            "Epoch: 2/20... Step: 210... Loss: 2.3597... Val Loss: 2.3443\n",
            "Epoch: 2/20... Step: 220... Loss: 2.3422... Val Loss: 2.3219\n",
            "Epoch: 2/20... Step: 230... Loss: 2.3043... Val Loss: 2.2853\n",
            "Epoch: 2/20... Step: 240... Loss: 2.2747... Val Loss: 2.2697\n",
            "Epoch: 2/20... Step: 250... Loss: 2.2531... Val Loss: 2.2383\n",
            "Epoch: 2/20... Step: 260... Loss: 2.1936... Val Loss: 2.2074\n",
            "Epoch: 2/20... Step: 270... Loss: 2.2273... Val Loss: 2.1859\n",
            "Epoch: 2/20... Step: 280... Loss: 2.1708... Val Loss: 2.1632\n",
            "Epoch: 2/20... Step: 290... Loss: 2.1268... Val Loss: 2.1402\n",
            "Epoch: 2/20... Step: 300... Loss: 2.1097... Val Loss: 2.1245\n",
            "Epoch: 2/20... Step: 310... Loss: 2.1255... Val Loss: 2.1034\n",
            "Epoch: 2/20... Step: 320... Loss: 2.0713... Val Loss: 2.0805\n",
            "Epoch: 2/20... Step: 330... Loss: 2.0676... Val Loss: 2.0596\n",
            "Epoch: 2/20... Step: 340... Loss: 2.0711... Val Loss: 2.0427\n",
            "Epoch: 3/20... Step: 350... Loss: 2.0598... Val Loss: 2.0325\n",
            "Epoch: 3/20... Step: 360... Loss: 2.0394... Val Loss: 2.0171\n",
            "Epoch: 3/20... Step: 370... Loss: 2.0047... Val Loss: 2.0018\n",
            "Epoch: 3/20... Step: 380... Loss: 1.9531... Val Loss: 1.9864\n",
            "Epoch: 3/20... Step: 390... Loss: 1.9725... Val Loss: 1.9692\n",
            "Epoch: 3/20... Step: 400... Loss: 1.9453... Val Loss: 1.9541\n",
            "Epoch: 3/20... Step: 410... Loss: 1.9756... Val Loss: 1.9437\n",
            "Epoch: 3/20... Step: 420... Loss: 1.9096... Val Loss: 1.9247\n",
            "Epoch: 3/20... Step: 430... Loss: 1.9128... Val Loss: 1.9144\n",
            "Epoch: 3/20... Step: 440... Loss: 1.9457... Val Loss: 1.9028\n",
            "Epoch: 3/20... Step: 450... Loss: 1.8980... Val Loss: 1.8872\n",
            "Epoch: 3/20... Step: 460... Loss: 1.9050... Val Loss: 1.8791\n",
            "Epoch: 3/20... Step: 470... Loss: 1.8758... Val Loss: 1.8675\n",
            "Epoch: 3/20... Step: 480... Loss: 1.8320... Val Loss: 1.8551\n",
            "Epoch: 3/20... Step: 490... Loss: 1.8402... Val Loss: 1.8421\n",
            "Epoch: 3/20... Step: 500... Loss: 1.8423... Val Loss: 1.8283\n",
            "Epoch: 3/20... Step: 510... Loss: 1.8289... Val Loss: 1.8185\n",
            "Epoch: 3/20... Step: 520... Loss: 1.7835... Val Loss: 1.8085\n",
            "Epoch: 4/20... Step: 530... Loss: 1.8284... Val Loss: 1.8002\n",
            "Epoch: 4/20... Step: 540... Loss: 1.8089... Val Loss: 1.7900\n",
            "Epoch: 4/20... Step: 550... Loss: 1.7875... Val Loss: 1.7832\n",
            "Epoch: 4/20... Step: 560... Loss: 1.8009... Val Loss: 1.7725\n",
            "Epoch: 4/20... Step: 570... Loss: 1.7680... Val Loss: 1.7634\n",
            "Epoch: 4/20... Step: 580... Loss: 1.7422... Val Loss: 1.7525\n",
            "Epoch: 4/20... Step: 590... Loss: 1.7081... Val Loss: 1.7456\n",
            "Epoch: 4/20... Step: 600... Loss: 1.7472... Val Loss: 1.7405\n",
            "Epoch: 4/20... Step: 610... Loss: 1.7492... Val Loss: 1.7331\n",
            "Epoch: 4/20... Step: 620... Loss: 1.7467... Val Loss: 1.7256\n",
            "Epoch: 4/20... Step: 630... Loss: 1.7367... Val Loss: 1.7161\n",
            "Epoch: 4/20... Step: 640... Loss: 1.7422... Val Loss: 1.7076\n",
            "Epoch: 4/20... Step: 650... Loss: 1.6633... Val Loss: 1.7016\n",
            "Epoch: 4/20... Step: 660... Loss: 1.7142... Val Loss: 1.6924\n",
            "Epoch: 4/20... Step: 670... Loss: 1.6959... Val Loss: 1.6847\n",
            "Epoch: 4/20... Step: 680... Loss: 1.7160... Val Loss: 1.6754\n",
            "Epoch: 4/20... Step: 690... Loss: 1.6713... Val Loss: 1.6700\n",
            "Epoch: 5/20... Step: 700... Loss: 1.6457... Val Loss: 1.6666\n",
            "Epoch: 5/20... Step: 710... Loss: 1.6680... Val Loss: 1.6630\n",
            "Epoch: 5/20... Step: 720... Loss: 1.6375... Val Loss: 1.6529\n",
            "Epoch: 5/20... Step: 730... Loss: 1.6359... Val Loss: 1.6502\n",
            "Epoch: 5/20... Step: 740... Loss: 1.6709... Val Loss: 1.6441\n",
            "Epoch: 5/20... Step: 750... Loss: 1.6487... Val Loss: 1.6373\n",
            "Epoch: 5/20... Step: 760... Loss: 1.6501... Val Loss: 1.6344\n",
            "Epoch: 5/20... Step: 770... Loss: 1.6358... Val Loss: 1.6291\n",
            "Epoch: 5/20... Step: 780... Loss: 1.6322... Val Loss: 1.6203\n",
            "Epoch: 5/20... Step: 790... Loss: 1.6311... Val Loss: 1.6187\n",
            "Epoch: 5/20... Step: 800... Loss: 1.5839... Val Loss: 1.6168\n",
            "Epoch: 5/20... Step: 810... Loss: 1.6234... Val Loss: 1.6095\n",
            "Epoch: 5/20... Step: 820... Loss: 1.5953... Val Loss: 1.6036\n",
            "Epoch: 5/20... Step: 830... Loss: 1.6072... Val Loss: 1.6001\n",
            "Epoch: 5/20... Step: 840... Loss: 1.5911... Val Loss: 1.5942\n",
            "Epoch: 5/20... Step: 850... Loss: 1.5893... Val Loss: 1.5920\n",
            "Epoch: 5/20... Step: 860... Loss: 1.6016... Val Loss: 1.5840\n",
            "Epoch: 5/20... Step: 870... Loss: 1.6213... Val Loss: 1.5823\n",
            "Epoch: 6/20... Step: 880... Loss: 1.5796... Val Loss: 1.5788\n",
            "Epoch: 6/20... Step: 890... Loss: 1.5959... Val Loss: 1.5701\n",
            "Epoch: 6/20... Step: 900... Loss: 1.5478... Val Loss: 1.5683\n",
            "Epoch: 6/20... Step: 910... Loss: 1.5396... Val Loss: 1.5624\n",
            "Epoch: 6/20... Step: 920... Loss: 1.5550... Val Loss: 1.5668\n",
            "Epoch: 6/20... Step: 930... Loss: 1.5360... Val Loss: 1.5566\n",
            "Epoch: 6/20... Step: 940... Loss: 1.5453... Val Loss: 1.5521\n",
            "Epoch: 6/20... Step: 950... Loss: 1.5538... Val Loss: 1.5516\n",
            "Epoch: 6/20... Step: 960... Loss: 1.5388... Val Loss: 1.5479\n",
            "Epoch: 6/20... Step: 970... Loss: 1.5396... Val Loss: 1.5384\n",
            "Epoch: 6/20... Step: 980... Loss: 1.5365... Val Loss: 1.5394\n",
            "Epoch: 6/20... Step: 990... Loss: 1.5071... Val Loss: 1.5354\n",
            "Epoch: 6/20... Step: 1000... Loss: 1.5508... Val Loss: 1.5346\n",
            "Epoch: 6/20... Step: 1010... Loss: 1.5212... Val Loss: 1.5331\n",
            "Epoch: 6/20... Step: 1020... Loss: 1.5056... Val Loss: 1.5252\n",
            "Epoch: 6/20... Step: 1030... Loss: 1.5545... Val Loss: 1.5215\n",
            "Epoch: 6/20... Step: 1040... Loss: 1.4844... Val Loss: 1.5218\n",
            "Epoch: 7/20... Step: 1050... Loss: 1.5014... Val Loss: 1.5213\n",
            "Epoch: 7/20... Step: 1060... Loss: 1.5204... Val Loss: 1.5164\n",
            "Epoch: 7/20... Step: 1070... Loss: 1.5494... Val Loss: 1.5093\n",
            "Epoch: 7/20... Step: 1080... Loss: 1.5047... Val Loss: 1.5056\n",
            "Epoch: 7/20... Step: 1090... Loss: 1.5426... Val Loss: 1.5025\n",
            "Epoch: 7/20... Step: 1100... Loss: 1.4980... Val Loss: 1.5021\n",
            "Epoch: 7/20... Step: 1110... Loss: 1.4763... Val Loss: 1.5018\n",
            "Epoch: 7/20... Step: 1120... Loss: 1.4896... Val Loss: 1.4956\n",
            "Epoch: 7/20... Step: 1130... Loss: 1.4523... Val Loss: 1.4930\n",
            "Epoch: 7/20... Step: 1140... Loss: 1.4754... Val Loss: 1.4978\n",
            "Epoch: 7/20... Step: 1150... Loss: 1.4462... Val Loss: 1.4957\n",
            "Epoch: 7/20... Step: 1160... Loss: 1.4385... Val Loss: 1.4879\n",
            "Epoch: 7/20... Step: 1170... Loss: 1.4496... Val Loss: 1.4823\n",
            "Epoch: 7/20... Step: 1180... Loss: 1.5066... Val Loss: 1.4835\n",
            "Epoch: 7/20... Step: 1190... Loss: 1.4531... Val Loss: 1.4815\n",
            "Epoch: 7/20... Step: 1200... Loss: 1.4512... Val Loss: 1.4747\n",
            "Epoch: 7/20... Step: 1210... Loss: 1.4699... Val Loss: 1.4750\n",
            "Epoch: 8/20... Step: 1220... Loss: 1.4738... Val Loss: 1.4716\n",
            "Epoch: 8/20... Step: 1230... Loss: 1.4711... Val Loss: 1.4738\n",
            "Epoch: 8/20... Step: 1240... Loss: 1.4791... Val Loss: 1.4642\n",
            "Epoch: 8/20... Step: 1250... Loss: 1.4273... Val Loss: 1.4631\n",
            "Epoch: 8/20... Step: 1260... Loss: 1.4449... Val Loss: 1.4608\n",
            "Epoch: 8/20... Step: 1270... Loss: 1.4408... Val Loss: 1.4628\n",
            "Epoch: 8/20... Step: 1280... Loss: 1.4442... Val Loss: 1.4598\n",
            "Epoch: 8/20... Step: 1290... Loss: 1.4155... Val Loss: 1.4551\n",
            "Epoch: 8/20... Step: 1300... Loss: 1.4360... Val Loss: 1.4509\n",
            "Epoch: 8/20... Step: 1310... Loss: 1.4615... Val Loss: 1.4517\n",
            "Epoch: 8/20... Step: 1320... Loss: 1.4152... Val Loss: 1.4502\n",
            "Epoch: 8/20... Step: 1330... Loss: 1.4496... Val Loss: 1.4457\n",
            "Epoch: 8/20... Step: 1340... Loss: 1.4072... Val Loss: 1.4435\n",
            "Epoch: 8/20... Step: 1350... Loss: 1.3840... Val Loss: 1.4482\n",
            "Epoch: 8/20... Step: 1360... Loss: 1.3896... Val Loss: 1.4450\n",
            "Epoch: 8/20... Step: 1370... Loss: 1.4174... Val Loss: 1.4368\n",
            "Epoch: 8/20... Step: 1380... Loss: 1.4274... Val Loss: 1.4367\n",
            "Epoch: 8/20... Step: 1390... Loss: 1.3941... Val Loss: 1.4339\n",
            "Epoch: 9/20... Step: 1400... Loss: 1.4218... Val Loss: 1.4332\n",
            "Epoch: 9/20... Step: 1410... Loss: 1.4097... Val Loss: 1.4346\n",
            "Epoch: 9/20... Step: 1420... Loss: 1.3913... Val Loss: 1.4300\n",
            "Epoch: 9/20... Step: 1430... Loss: 1.4392... Val Loss: 1.4290\n",
            "Epoch: 9/20... Step: 1440... Loss: 1.4105... Val Loss: 1.4289\n",
            "Epoch: 9/20... Step: 1450... Loss: 1.3937... Val Loss: 1.4242\n",
            "Epoch: 9/20... Step: 1460... Loss: 1.3558... Val Loss: 1.4262\n",
            "Epoch: 9/20... Step: 1470... Loss: 1.3908... Val Loss: 1.4217\n",
            "Epoch: 9/20... Step: 1480... Loss: 1.3929... Val Loss: 1.4229\n",
            "Epoch: 9/20... Step: 1490... Loss: 1.4068... Val Loss: 1.4272\n",
            "Epoch: 9/20... Step: 1500... Loss: 1.4081... Val Loss: 1.4216\n",
            "Epoch: 9/20... Step: 1510... Loss: 1.4076... Val Loss: 1.4178\n",
            "Epoch: 9/20... Step: 1520... Loss: 1.3622... Val Loss: 1.4140\n",
            "Epoch: 9/20... Step: 1530... Loss: 1.3874... Val Loss: 1.4196\n",
            "Epoch: 9/20... Step: 1540... Loss: 1.3783... Val Loss: 1.4154\n",
            "Epoch: 9/20... Step: 1550... Loss: 1.4004... Val Loss: 1.4096\n",
            "Epoch: 9/20... Step: 1560... Loss: 1.3654... Val Loss: 1.4112\n",
            "Epoch: 10/20... Step: 1570... Loss: 1.3599... Val Loss: 1.4125\n",
            "Epoch: 10/20... Step: 1580... Loss: 1.3957... Val Loss: 1.4143\n",
            "Epoch: 10/20... Step: 1590... Loss: 1.3532... Val Loss: 1.4086\n",
            "Epoch: 10/20... Step: 1600... Loss: 1.3563... Val Loss: 1.4052\n",
            "Epoch: 10/20... Step: 1610... Loss: 1.3908... Val Loss: 1.4061\n",
            "Epoch: 10/20... Step: 1620... Loss: 1.3807... Val Loss: 1.4019\n",
            "Epoch: 10/20... Step: 1630... Loss: 1.3829... Val Loss: 1.4004\n",
            "Epoch: 10/20... Step: 1640... Loss: 1.3779... Val Loss: 1.4009\n",
            "Epoch: 10/20... Step: 1650... Loss: 1.3659... Val Loss: 1.3949\n",
            "Epoch: 10/20... Step: 1660... Loss: 1.3729... Val Loss: 1.3931\n",
            "Epoch: 10/20... Step: 1670... Loss: 1.3309... Val Loss: 1.3951\n",
            "Epoch: 10/20... Step: 1680... Loss: 1.3769... Val Loss: 1.3929\n",
            "Epoch: 10/20... Step: 1690... Loss: 1.3359... Val Loss: 1.3925\n",
            "Epoch: 10/20... Step: 1700... Loss: 1.3488... Val Loss: 1.3954\n",
            "Epoch: 10/20... Step: 1710... Loss: 1.3601... Val Loss: 1.3920\n",
            "Epoch: 10/20... Step: 1720... Loss: 1.3605... Val Loss: 1.3898\n",
            "Epoch: 10/20... Step: 1730... Loss: 1.3743... Val Loss: 1.3881\n",
            "Epoch: 10/20... Step: 1740... Loss: 1.3994... Val Loss: 1.3840\n",
            "Epoch: 11/20... Step: 1750... Loss: 1.3361... Val Loss: 1.3829\n",
            "Epoch: 11/20... Step: 1760... Loss: 1.3742... Val Loss: 1.3904\n",
            "Epoch: 11/20... Step: 1770... Loss: 1.3308... Val Loss: 1.3836\n",
            "Epoch: 11/20... Step: 1780... Loss: 1.3366... Val Loss: 1.3851\n",
            "Epoch: 11/20... Step: 1790... Loss: 1.3376... Val Loss: 1.3857\n",
            "Epoch: 11/20... Step: 1800... Loss: 1.3230... Val Loss: 1.3829\n",
            "Epoch: 11/20... Step: 1810... Loss: 1.3304... Val Loss: 1.3801\n",
            "Epoch: 11/20... Step: 1820... Loss: 1.3418... Val Loss: 1.3784\n",
            "Epoch: 11/20... Step: 1830... Loss: 1.3345... Val Loss: 1.3808\n",
            "Epoch: 11/20... Step: 1840... Loss: 1.3356... Val Loss: 1.3784\n",
            "Epoch: 11/20... Step: 1850... Loss: 1.3382... Val Loss: 1.3732\n",
            "Epoch: 11/20... Step: 1860... Loss: 1.3174... Val Loss: 1.3732\n",
            "Epoch: 11/20... Step: 1870... Loss: 1.3567... Val Loss: 1.3761\n",
            "Epoch: 11/20... Step: 1880... Loss: 1.3326... Val Loss: 1.3740\n",
            "Epoch: 11/20... Step: 1890... Loss: 1.3109... Val Loss: 1.3711\n",
            "Epoch: 11/20... Step: 1900... Loss: 1.3692... Val Loss: 1.3687\n",
            "Epoch: 11/20... Step: 1910... Loss: 1.2938... Val Loss: 1.3725\n",
            "Epoch: 12/20... Step: 1920... Loss: 1.3195... Val Loss: 1.3725\n",
            "Epoch: 12/20... Step: 1930... Loss: 1.3415... Val Loss: 1.3726\n",
            "Epoch: 12/20... Step: 1940... Loss: 1.3650... Val Loss: 1.3687\n",
            "Epoch: 12/20... Step: 1950... Loss: 1.3226... Val Loss: 1.3633\n",
            "Epoch: 12/20... Step: 1960... Loss: 1.3628... Val Loss: 1.3643\n",
            "Epoch: 12/20... Step: 1970... Loss: 1.3174... Val Loss: 1.3637\n",
            "Epoch: 12/20... Step: 1980... Loss: 1.3055... Val Loss: 1.3652\n",
            "Epoch: 12/20... Step: 1990... Loss: 1.3156... Val Loss: 1.3652\n",
            "Epoch: 12/20... Step: 2000... Loss: 1.2875... Val Loss: 1.3645\n",
            "Epoch: 12/20... Step: 2010... Loss: 1.3083... Val Loss: 1.3580\n",
            "Epoch: 12/20... Step: 2020... Loss: 1.2884... Val Loss: 1.3573\n",
            "Epoch: 12/20... Step: 2030... Loss: 1.2862... Val Loss: 1.3548\n",
            "Epoch: 12/20... Step: 2040... Loss: 1.2880... Val Loss: 1.3577\n",
            "Epoch: 12/20... Step: 2050... Loss: 1.3269... Val Loss: 1.3582\n",
            "Epoch: 12/20... Step: 2060... Loss: 1.3060... Val Loss: 1.3601\n",
            "Epoch: 12/20... Step: 2070... Loss: 1.2916... Val Loss: 1.3588\n",
            "Epoch: 12/20... Step: 2080... Loss: 1.3115... Val Loss: 1.3532\n",
            "Epoch: 13/20... Step: 2090... Loss: 1.3252... Val Loss: 1.3530\n",
            "Epoch: 13/20... Step: 2100... Loss: 1.3026... Val Loss: 1.3541\n",
            "Epoch: 13/20... Step: 2110... Loss: 1.3244... Val Loss: 1.3569\n",
            "Epoch: 13/20... Step: 2120... Loss: 1.2857... Val Loss: 1.3547\n",
            "Epoch: 13/20... Step: 2130... Loss: 1.2977... Val Loss: 1.3528\n",
            "Epoch: 13/20... Step: 2140... Loss: 1.2987... Val Loss: 1.3522\n",
            "Epoch: 13/20... Step: 2150... Loss: 1.2928... Val Loss: 1.3522\n",
            "Epoch: 13/20... Step: 2160... Loss: 1.2743... Val Loss: 1.3518\n",
            "Epoch: 13/20... Step: 2170... Loss: 1.2824... Val Loss: 1.3473\n",
            "Epoch: 13/20... Step: 2180... Loss: 1.3119... Val Loss: 1.3482\n",
            "Epoch: 13/20... Step: 2190... Loss: 1.2826... Val Loss: 1.3455\n",
            "Epoch: 13/20... Step: 2200... Loss: 1.3050... Val Loss: 1.3447\n",
            "Epoch: 13/20... Step: 2210... Loss: 1.2671... Val Loss: 1.3449\n",
            "Epoch: 13/20... Step: 2220... Loss: 1.2625... Val Loss: 1.3469\n",
            "Epoch: 13/20... Step: 2230... Loss: 1.2562... Val Loss: 1.3484\n",
            "Epoch: 13/20... Step: 2240... Loss: 1.2833... Val Loss: 1.3430\n",
            "Epoch: 13/20... Step: 2250... Loss: 1.2843... Val Loss: 1.3421\n",
            "Epoch: 13/20... Step: 2260... Loss: 1.2534... Val Loss: 1.3408\n",
            "Epoch: 14/20... Step: 2270... Loss: 1.3022... Val Loss: 1.3437\n",
            "Epoch: 14/20... Step: 2280... Loss: 1.2941... Val Loss: 1.3444\n",
            "Epoch: 14/20... Step: 2290... Loss: 1.2638... Val Loss: 1.3432\n",
            "Epoch: 14/20... Step: 2300... Loss: 1.2861... Val Loss: 1.3393\n",
            "Epoch: 14/20... Step: 2310... Loss: 1.2846... Val Loss: 1.3383\n",
            "Epoch: 14/20... Step: 2320... Loss: 1.2697... Val Loss: 1.3358\n",
            "Epoch: 14/20... Step: 2330... Loss: 1.2328... Val Loss: 1.3369\n",
            "Epoch: 14/20... Step: 2340... Loss: 1.2689... Val Loss: 1.3329\n",
            "Epoch: 14/20... Step: 2350... Loss: 1.2796... Val Loss: 1.3330\n",
            "Epoch: 14/20... Step: 2360... Loss: 1.2819... Val Loss: 1.3416\n",
            "Epoch: 14/20... Step: 2370... Loss: 1.2777... Val Loss: 1.3368\n",
            "Epoch: 14/20... Step: 2380... Loss: 1.2847... Val Loss: 1.3330\n",
            "Epoch: 14/20... Step: 2390... Loss: 1.2514... Val Loss: 1.3330\n",
            "Epoch: 14/20... Step: 2400... Loss: 1.2867... Val Loss: 1.3325\n",
            "Epoch: 14/20... Step: 2410... Loss: 1.2645... Val Loss: 1.3340\n",
            "Epoch: 14/20... Step: 2420... Loss: 1.2879... Val Loss: 1.3275\n",
            "Epoch: 14/20... Step: 2430... Loss: 1.2656... Val Loss: 1.3267\n",
            "Epoch: 15/20... Step: 2440... Loss: 1.2477... Val Loss: 1.3316\n",
            "Epoch: 15/20... Step: 2450... Loss: 1.2659... Val Loss: 1.3326\n",
            "Epoch: 15/20... Step: 2460... Loss: 1.2358... Val Loss: 1.3279\n",
            "Epoch: 15/20... Step: 2470... Loss: 1.2367... Val Loss: 1.3221\n",
            "Epoch: 15/20... Step: 2480... Loss: 1.2791... Val Loss: 1.3265\n",
            "Epoch: 15/20... Step: 2490... Loss: 1.2726... Val Loss: 1.3256\n",
            "Epoch: 15/20... Step: 2500... Loss: 1.2773... Val Loss: 1.3223\n",
            "Epoch: 15/20... Step: 2510... Loss: 1.2660... Val Loss: 1.3237\n",
            "Epoch: 15/20... Step: 2520... Loss: 1.2557... Val Loss: 1.3217\n",
            "Epoch: 15/20... Step: 2530... Loss: 1.2646... Val Loss: 1.3206\n",
            "Epoch: 15/20... Step: 2540... Loss: 1.2192... Val Loss: 1.3216\n",
            "Epoch: 15/20... Step: 2550... Loss: 1.2652... Val Loss: 1.3193\n",
            "Epoch: 15/20... Step: 2560... Loss: 1.2239... Val Loss: 1.3195\n",
            "Epoch: 15/20... Step: 2570... Loss: 1.2464... Val Loss: 1.3206\n",
            "Epoch: 15/20... Step: 2580... Loss: 1.2597... Val Loss: 1.3195\n",
            "Epoch: 15/20... Step: 2590... Loss: 1.2558... Val Loss: 1.3175\n",
            "Epoch: 15/20... Step: 2600... Loss: 1.2664... Val Loss: 1.3142\n",
            "Epoch: 15/20... Step: 2610... Loss: 1.2979... Val Loss: 1.3153\n",
            "Epoch: 16/20... Step: 2620... Loss: 1.2340... Val Loss: 1.3178\n",
            "Epoch: 16/20... Step: 2630... Loss: 1.2683... Val Loss: 1.3160\n",
            "Epoch: 16/20... Step: 2640... Loss: 1.2296... Val Loss: 1.3131\n",
            "Epoch: 16/20... Step: 2650... Loss: 1.2327... Val Loss: 1.3105\n",
            "Epoch: 16/20... Step: 2660... Loss: 1.2371... Val Loss: 1.3151\n",
            "Epoch: 16/20... Step: 2670... Loss: 1.2176... Val Loss: 1.3110\n",
            "Epoch: 16/20... Step: 2680... Loss: 1.2461... Val Loss: 1.3141\n",
            "Epoch: 16/20... Step: 2690... Loss: 1.2432... Val Loss: 1.3105\n",
            "Epoch: 16/20... Step: 2700... Loss: 1.2446... Val Loss: 1.3095\n",
            "Epoch: 16/20... Step: 2710... Loss: 1.2387... Val Loss: 1.3126\n",
            "Epoch: 16/20... Step: 2720... Loss: 1.2473... Val Loss: 1.3136\n",
            "Epoch: 16/20... Step: 2730... Loss: 1.2216... Val Loss: 1.3099\n",
            "Epoch: 16/20... Step: 2740... Loss: 1.2603... Val Loss: 1.3073\n",
            "Epoch: 16/20... Step: 2750... Loss: 1.2290... Val Loss: 1.3090\n",
            "Epoch: 16/20... Step: 2760... Loss: 1.2325... Val Loss: 1.3059\n",
            "Epoch: 16/20... Step: 2770... Loss: 1.2582... Val Loss: 1.3053\n",
            "Epoch: 16/20... Step: 2780... Loss: 1.1931... Val Loss: 1.3061\n",
            "Epoch: 17/20... Step: 2790... Loss: 1.2369... Val Loss: 1.3138\n",
            "Epoch: 17/20... Step: 2800... Loss: 1.2480... Val Loss: 1.3049\n",
            "Epoch: 17/20... Step: 2810... Loss: 1.2691... Val Loss: 1.3038\n",
            "Epoch: 17/20... Step: 2820... Loss: 1.2320... Val Loss: 1.3008\n",
            "Epoch: 17/20... Step: 2830... Loss: 1.2674... Val Loss: 1.3028\n",
            "Epoch: 17/20... Step: 2840... Loss: 1.2267... Val Loss: 1.3072\n",
            "Epoch: 17/20... Step: 2850... Loss: 1.2168... Val Loss: 1.3043\n",
            "Epoch: 17/20... Step: 2860... Loss: 1.2160... Val Loss: 1.3021\n",
            "Epoch: 17/20... Step: 2870... Loss: 1.2022... Val Loss: 1.3042\n",
            "Epoch: 17/20... Step: 2880... Loss: 1.2258... Val Loss: 1.3039\n",
            "Epoch: 17/20... Step: 2890... Loss: 1.2046... Val Loss: 1.3023\n",
            "Epoch: 17/20... Step: 2900... Loss: 1.1856... Val Loss: 1.3075\n",
            "Epoch: 17/20... Step: 2910... Loss: 1.2019... Val Loss: 1.3044\n",
            "Epoch: 17/20... Step: 2920... Loss: 1.2342... Val Loss: 1.3050\n",
            "Epoch: 17/20... Step: 2930... Loss: 1.1990... Val Loss: 1.3097\n",
            "Epoch: 17/20... Step: 2940... Loss: 1.2132... Val Loss: 1.3026\n",
            "Epoch: 17/20... Step: 2950... Loss: 1.2305... Val Loss: 1.2978\n",
            "Epoch: 18/20... Step: 2960... Loss: 1.2447... Val Loss: 1.2928\n",
            "Epoch: 18/20... Step: 2970... Loss: 1.2276... Val Loss: 1.3000\n",
            "Epoch: 18/20... Step: 2980... Loss: 1.2426... Val Loss: 1.2993\n",
            "Epoch: 18/20... Step: 2990... Loss: 1.1920... Val Loss: 1.2984\n",
            "Epoch: 18/20... Step: 3000... Loss: 1.2062... Val Loss: 1.3000\n",
            "Epoch: 18/20... Step: 3010... Loss: 1.2103... Val Loss: 1.3005\n",
            "Epoch: 18/20... Step: 3020... Loss: 1.2047... Val Loss: 1.2967\n",
            "Epoch: 18/20... Step: 3030... Loss: 1.1991... Val Loss: 1.2984\n",
            "Epoch: 18/20... Step: 3040... Loss: 1.2059... Val Loss: 1.2958\n",
            "Epoch: 18/20... Step: 3050... Loss: 1.2199... Val Loss: 1.2967\n",
            "Epoch: 18/20... Step: 3060... Loss: 1.1977... Val Loss: 1.2982\n",
            "Epoch: 18/20... Step: 3070... Loss: 1.2207... Val Loss: 1.2945\n",
            "Epoch: 18/20... Step: 3080... Loss: 1.1838... Val Loss: 1.2949\n",
            "Epoch: 18/20... Step: 3090... Loss: 1.1750... Val Loss: 1.2911\n",
            "Epoch: 18/20... Step: 3100... Loss: 1.1782... Val Loss: 1.2942\n",
            "Epoch: 18/20... Step: 3110... Loss: 1.2111... Val Loss: 1.2942\n",
            "Epoch: 18/20... Step: 3120... Loss: 1.2124... Val Loss: 1.2876\n",
            "Epoch: 18/20... Step: 3130... Loss: 1.1861... Val Loss: 1.2858\n",
            "Epoch: 19/20... Step: 3140... Loss: 1.2039... Val Loss: 1.2964\n",
            "Epoch: 19/20... Step: 3150... Loss: 1.2131... Val Loss: 1.2873\n",
            "Epoch: 19/20... Step: 3160... Loss: 1.1969... Val Loss: 1.2843\n",
            "Epoch: 19/20... Step: 3170... Loss: 1.2124... Val Loss: 1.2827\n",
            "Epoch: 19/20... Step: 3180... Loss: 1.2123... Val Loss: 1.2892\n",
            "Epoch: 19/20... Step: 3190... Loss: 1.1998... Val Loss: 1.2923\n",
            "Epoch: 19/20... Step: 3200... Loss: 1.1497... Val Loss: 1.2965\n",
            "Epoch: 19/20... Step: 3210... Loss: 1.1838... Val Loss: 1.2846\n",
            "Epoch: 19/20... Step: 3220... Loss: 1.2013... Val Loss: 1.2863\n",
            "Epoch: 19/20... Step: 3230... Loss: 1.2116... Val Loss: 1.2899\n",
            "Epoch: 19/20... Step: 3240... Loss: 1.1994... Val Loss: 1.2892\n",
            "Epoch: 19/20... Step: 3250... Loss: 1.2092... Val Loss: 1.2872\n",
            "Epoch: 19/20... Step: 3260... Loss: 1.1726... Val Loss: 1.2887\n",
            "Epoch: 19/20... Step: 3270... Loss: 1.2009... Val Loss: 1.2934\n",
            "Epoch: 19/20... Step: 3280... Loss: 1.1961... Val Loss: 1.2880\n",
            "Epoch: 19/20... Step: 3290... Loss: 1.2057... Val Loss: 1.2892\n",
            "Epoch: 19/20... Step: 3300... Loss: 1.1917... Val Loss: 1.2881\n",
            "Epoch: 20/20... Step: 3310... Loss: 1.1756... Val Loss: 1.2873\n",
            "Epoch: 20/20... Step: 3320... Loss: 1.2036... Val Loss: 1.2830\n",
            "Epoch: 20/20... Step: 3330... Loss: 1.1591... Val Loss: 1.2879\n",
            "Epoch: 20/20... Step: 3340... Loss: 1.1716... Val Loss: 1.2851\n",
            "Epoch: 20/20... Step: 3350... Loss: 1.2049... Val Loss: 1.2902\n",
            "Epoch: 20/20... Step: 3360... Loss: 1.2093... Val Loss: 1.2900\n",
            "Epoch: 20/20... Step: 3370... Loss: 1.2011... Val Loss: 1.2850\n",
            "Epoch: 20/20... Step: 3380... Loss: 1.1914... Val Loss: 1.2873\n",
            "Epoch: 20/20... Step: 3390... Loss: 1.1832... Val Loss: 1.2885\n",
            "Epoch: 20/20... Step: 3400... Loss: 1.1911... Val Loss: 1.2826\n",
            "Epoch: 20/20... Step: 3410... Loss: 1.1549... Val Loss: 1.2899\n",
            "Epoch: 20/20... Step: 3420... Loss: 1.2070... Val Loss: 1.2873\n",
            "Epoch: 20/20... Step: 3430... Loss: 1.1558... Val Loss: 1.2820\n",
            "Epoch: 20/20... Step: 3440... Loss: 1.1713... Val Loss: 1.2807\n",
            "Epoch: 20/20... Step: 3450... Loss: 1.1880... Val Loss: 1.2833\n",
            "Epoch: 20/20... Step: 3460... Loss: 1.1923... Val Loss: 1.2794\n",
            "Epoch: 20/20... Step: 3470... Loss: 1.1951... Val Loss: 1.2808\n",
            "Epoch: 20/20... Step: 3480... Loss: 1.2389... Val Loss: 1.2786\n"
          ],
          "name": "stdout"
        }
      ]
    },
    {
      "cell_type": "markdown",
      "metadata": {
        "id": "C-KlhF69sWqL",
        "colab_type": "text"
      },
      "source": [
        "## Getting the best model\n",
        "\n",
        "To set your hyperparameters to get the best performance, you'll want to watch the training and validation losses. If your training loss is much lower than the validation loss, you're overfitting. Increase regularization (more dropout) or use a smaller network. If the training and validation losses are close, you're underfitting so you can increase the size of the network."
      ]
    },
    {
      "cell_type": "markdown",
      "metadata": {
        "id": "kyzziuWwsWqM",
        "colab_type": "text"
      },
      "source": [
        "## Hyperparameters\n",
        "\n",
        "Here are the hyperparameters for the network.\n",
        "\n",
        "In defining the model:\n",
        "* `n_hidden` - The number of units in the hidden layers.\n",
        "* `n_layers` - Number of hidden LSTM layers to use.\n",
        "\n",
        "We assume that dropout probability and learning rate will be kept at the default, in this example.\n",
        "\n",
        "And in training:\n",
        "* `batch_size` - Number of sequences running through the network in one pass.\n",
        "* `seq_length` - Number of characters in the sequence the network is trained on. Larger is better typically, the network will learn more long range dependencies. But it takes longer to train. 100 is typically a good number here.\n",
        "* `lr` - Learning rate for training\n",
        "\n",
        "Here's some good advice from Andrej Karpathy on training the network. I'm going to copy it in here for your benefit, but also link to [where it originally came from](https://github.com/karpathy/char-rnn#tips-and-tricks).\n",
        "\n",
        "> ## Tips and Tricks\n",
        "\n",
        ">### Monitoring Validation Loss vs. Training Loss\n",
        ">If you're somewhat new to Machine Learning or Neural Networks it can take a bit of expertise to get good models. The most important quantity to keep track of is the difference between your training loss (printed during training) and the validation loss (printed once in a while when the RNN is run on the validation data (by default every 1000 iterations)). In particular:\n",
        "\n",
        "> - If your training loss is much lower than validation loss then this means the network might be **overfitting**. Solutions to this are to decrease your network size, or to increase dropout. For example you could try dropout of 0.5 and so on.\n",
        "> - If your training/validation loss are about equal then your model is **underfitting**. Increase the size of your model (either number of layers or the raw number of neurons per layer)\n",
        "\n",
        "> ### Approximate number of parameters\n",
        "\n",
        "> The two most important parameters that control the model are `n_hidden` and `n_layers`. I would advise that you always use `n_layers` of either 2/3. The `n_hidden` can be adjusted based on how much data you have. The two important quantities to keep track of here are:\n",
        "\n",
        "> - The number of parameters in your model. This is printed when you start training.\n",
        "> - The size of your dataset. 1MB file is approximately 1 million characters.\n",
        "\n",
        ">These two should be about the same order of magnitude. It's a little tricky to tell. Here are some examples:\n",
        "\n",
        "> - I have a 100MB dataset and I'm using the default parameter settings (which currently print 150K parameters). My data size is significantly larger (100 mil >> 0.15 mil), so I expect to heavily underfit. I am thinking I can comfortably afford to make `n_hidden` larger.\n",
        "> - I have a 10MB dataset and running a 10 million parameter model. I'm slightly nervous and I'm carefully monitoring my validation loss. If it's larger than my training loss then I may want to try to increase dropout a bit and see if that helps the validation loss.\n",
        "\n",
        "> ### Best models strategy\n",
        "\n",
        ">The winning strategy to obtaining very good models (if you have the compute time) is to always err on making the network larger (as large as you're willing to wait for it to compute) and then try different dropout values (between 0,1). Whatever model has the best validation performance (the loss, written in the checkpoint filename, low is good) is the one you should use in the end.\n",
        "\n",
        ">It is very common in deep learning to run many different models with many different hyperparameter settings, and in the end take whatever checkpoint gave the best validation performance.\n",
        "\n",
        ">By the way, the size of your training and validation splits are also parameters. Make sure you have a decent amount of data in your validation set or otherwise the validation performance will be noisy and not very informative."
      ]
    },
    {
      "cell_type": "markdown",
      "metadata": {
        "id": "-ZC-Q_rqsWqM",
        "colab_type": "text"
      },
      "source": [
        "## Checkpoint\n",
        "\n",
        "After training, we'll save the model so we can load it again later if we need too. Here I'm saving the parameters needed to create the same architecture, the hidden layer hyperparameters and the text characters."
      ]
    },
    {
      "cell_type": "code",
      "metadata": {
        "id": "YQsNnlXJsWqN",
        "colab_type": "code",
        "colab": {}
      },
      "source": [
        "# change the name, for saving multiple files\n",
        "model_name = 'rnn_x_epoch.net'\n",
        "\n",
        "checkpoint = {'n_hidden': net.n_hidden,\n",
        "              'n_layers': net.n_layers,\n",
        "              'state_dict': net.state_dict(),\n",
        "              'tokens': net.chars}\n",
        "\n",
        "with open(model_name, 'wb') as f:\n",
        "    torch.save(checkpoint, f)"
      ],
      "execution_count": 30,
      "outputs": []
    },
    {
      "cell_type": "markdown",
      "metadata": {
        "id": "Ibi-UwhnsWqR",
        "colab_type": "text"
      },
      "source": [
        "---\n",
        "## Making Predictions\n",
        "\n",
        "Now that the model is trained, we'll want to sample from it and make predictions about next characters! To sample, we pass in a character and have the network predict the next character. Then we take that character, pass it back in, and get another predicted character. Just keep doing this and you'll generate a bunch of text!\n",
        "\n",
        "### A note on the `predict`  function\n",
        "\n",
        "The output of our RNN is from a fully-connected layer and it outputs a **distribution of next-character scores**.\n",
        "\n",
        "> To actually get the next character, we apply a softmax function, which gives us a *probability* distribution that we can then sample to predict the next character.\n",
        "\n",
        "### Top K sampling\n",
        "\n",
        "Our predictions come from a categorical probability distribution over all the possible characters. We can make the sample text and make it more reasonable to handle (with less variables) by only considering some $K$ most probable characters. This will prevent the network from giving us completely absurd characters while allowing it to introduce some noise and randomness into the sampled text. Read more about [topk, here](https://pytorch.org/docs/stable/torch.html#torch.topk).\n"
      ]
    },
    {
      "cell_type": "code",
      "metadata": {
        "id": "cFJKqOJhsWqR",
        "colab_type": "code",
        "colab": {}
      },
      "source": [
        "def predict(net, char, h=None, top_k=None):\n",
        "        ''' Given a character, predict the next character.\n",
        "            Returns the predicted character and the hidden state.\n",
        "        '''\n",
        "        \n",
        "        # tensor inputs\n",
        "        x = np.array([[net.char2int[char]]])\n",
        "        x = one_hot_encode(x, len(net.chars))\n",
        "        inputs = torch.from_numpy(x)\n",
        "        \n",
        "        if(train_on_gpu):\n",
        "            inputs = inputs.cuda()\n",
        "        \n",
        "        # detach hidden state from history\n",
        "        h = tuple([each.data for each in h])\n",
        "        # get the output of the model\n",
        "        out, h = net(inputs, h)\n",
        "\n",
        "        # get the character probabilities\n",
        "        p = F.softmax(out, dim=1).data\n",
        "        if(train_on_gpu):\n",
        "            p = p.cpu() # move to cpu\n",
        "        \n",
        "        # get top characters\n",
        "        if top_k is None:\n",
        "            top_ch = np.arange(len(net.chars))\n",
        "        else:\n",
        "            p, top_ch = p.topk(top_k)\n",
        "            top_ch = top_ch.numpy().squeeze()\n",
        "        \n",
        "        # select the likely next character with some element of randomness\n",
        "        p = p.numpy().squeeze()\n",
        "        char = np.random.choice(top_ch, p=p/p.sum())\n",
        "        \n",
        "        # return the encoded value of the predicted char and the hidden state\n",
        "        return net.int2char[char], h"
      ],
      "execution_count": 31,
      "outputs": []
    },
    {
      "cell_type": "markdown",
      "metadata": {
        "id": "IxGC_ZgusWqV",
        "colab_type": "text"
      },
      "source": [
        "### Priming and generating text \n",
        "\n",
        "Typically you'll want to prime the network so you can build up a hidden state. Otherwise the network will start out generating characters at random. In general the first bunch of characters will be a little rough since it hasn't built up a long history of characters to predict from."
      ]
    },
    {
      "cell_type": "code",
      "metadata": {
        "id": "3nbqdHv5sWqW",
        "colab_type": "code",
        "colab": {}
      },
      "source": [
        "def sample(net, size, prime='The', top_k=None):\n",
        "        \n",
        "    if(train_on_gpu):\n",
        "        net.cuda()\n",
        "    else:\n",
        "        net.cpu()\n",
        "    \n",
        "    net.eval() # eval mode\n",
        "    \n",
        "    # First off, run through the prime characters\n",
        "    chars = [ch for ch in prime]\n",
        "    h = net.init_hidden(1)\n",
        "    for ch in prime:\n",
        "        char, h = predict(net, ch, h, top_k=top_k)\n",
        "\n",
        "    chars.append(char)\n",
        "    \n",
        "    # Now pass in the previous character and get a new one\n",
        "    for ii in range(size):\n",
        "        char, h = predict(net, chars[-1], h, top_k=top_k)\n",
        "        chars.append(char)\n",
        "\n",
        "    return ''.join(chars)"
      ],
      "execution_count": 32,
      "outputs": []
    },
    {
      "cell_type": "code",
      "metadata": {
        "id": "pphq46CasWqZ",
        "colab_type": "code",
        "colab": {
          "base_uri": "https://localhost:8080/",
          "height": 306
        },
        "outputId": "f836700d-4822-4e43-f38e-3bf564e3729c"
      },
      "source": [
        "print(sample(net, 1000, prime='Anna', top_k=5))"
      ],
      "execution_count": 33,
      "outputs": [
        {
          "output_type": "stream",
          "text": [
            "Anna's\n",
            "face. But iftered a girl was so married the same some one of\n",
            "the day to her feet and the convinced he would have been so\n",
            "much already seemed, and that he was not the midul to their\n",
            "capes of some position, to him on his compation with her settlement\n",
            "from him in the colonel was some descair, however always say it\n",
            "in the set at his hister, he felt how a song as though to do so and\n",
            "himself, but so he was nice it was a long while in time in the\n",
            "person, his face and word they heard it had a support but the delight\n",
            "and works, and walked at her single and clear. The streams of the country\n",
            "said it were founded, and seeing his hand, and had a portors at the same\n",
            "time had been saying a bed. The doctor, that he had all to call\n",
            "him alone the conduct, he cault her as such a faint strange\n",
            "cliver, words with his comfortable peasants where\n",
            "he had been crumbling over to her the sold of the balls as a\n",
            "feeling of the doctor's way and handing hers. And so he was so mistaken and had\n",
            "bared his comfortably,\n"
          ],
          "name": "stdout"
        }
      ]
    },
    {
      "cell_type": "markdown",
      "metadata": {
        "id": "Gjec2JDIsWqe",
        "colab_type": "text"
      },
      "source": [
        "## Loading a checkpoint"
      ]
    },
    {
      "cell_type": "code",
      "metadata": {
        "id": "Vwdj7Wr0sWqg",
        "colab_type": "code",
        "colab": {
          "base_uri": "https://localhost:8080/",
          "height": 34
        },
        "outputId": "0688e0f2-16bd-4739-9afc-3fc7448394a8"
      },
      "source": [
        "# Here we have loaded in a model that trained over 20 epochs `rnn_20_epoch.net`\n",
        "with open('rnn_x_epoch.net', 'rb') as f:\n",
        "    checkpoint = torch.load(f)\n",
        "    \n",
        "loaded = CharRNN(checkpoint['tokens'], n_hidden=checkpoint['n_hidden'], n_layers=checkpoint['n_layers'])\n",
        "loaded.load_state_dict(checkpoint['state_dict'])"
      ],
      "execution_count": 34,
      "outputs": [
        {
          "output_type": "execute_result",
          "data": {
            "text/plain": [
              "<All keys matched successfully>"
            ]
          },
          "metadata": {
            "tags": []
          },
          "execution_count": 34
        }
      ]
    },
    {
      "cell_type": "code",
      "metadata": {
        "id": "HMHDIrl8sWql",
        "colab_type": "code",
        "colab": {
          "base_uri": "https://localhost:8080/",
          "height": 748
        },
        "outputId": "4c7fa357-2a0c-453a-862e-34ccd083f22d"
      },
      "source": [
        "# Sample using a loaded model\n",
        "print(sample(loaded, 2000, top_k=5, prime=\"And Levin said\"))"
      ],
      "execution_count": 35,
      "outputs": [
        {
          "output_type": "stream",
          "text": [
            "And Levin said:\n",
            "\n",
            "\"Well, and he does not stand on,\" said Vronsky, silently, smiling.\n",
            "\n",
            "The sight of the driver were not seen the same as he was\n",
            "angry. He had been so still staring at the conversation. He had been\n",
            "still so as to divorce. He went on, and was no sign, and\n",
            "he went on the soun of his soul, and all her later had the country sat his\n",
            "horses at the child they had blent out the prince.\n",
            "\n",
            "\"I am a long bailory ofe's so that his fiture might have to do, and he has a\n",
            "seese. They, when she is interested in a coming table and sort of\n",
            "sense of sufferings,\" said Stepan Arkadyevitch with his head,\n",
            "she shook her hand, and her face asked her for the children.\n",
            "\n",
            "\"Why since I don't care to see you? And I sat so it's a courter take\n",
            "a subject of her, anywey will be a courter to make an offer.\"\n",
            "\n",
            "She lost an instant she was a long borar to him in the conversation, the\n",
            "count he was silent fully, and had been seeing the party to the door and\n",
            "help he had not been stronce it as through herself, and what she called\n",
            "the\n",
            "choling choor. As he would not come fould the secret way as they saw it was so thought\n",
            "her face with his feelings. The conversation of the conversation\n",
            "were all about this seeing her.\n",
            "\n",
            "\"What as you to see the princess. Then I shall not hear\n",
            "them of a sick man. A peace, the men, these'r any man's sister and a\n",
            "picture of that feeling for them. And how can I have been a good\n",
            "face.\"\n",
            "\n",
            "The morning was not been such as a marshlo heart that he could not see a\n",
            "bright time he had been sat dinner, and went away against it,\n",
            "and he went away, saying the most spring and charming weakness\n",
            "of his brother's calling the deptess with that shooting and talking\n",
            "shoulders, his son. The meaning of the day he could not see her\n",
            "hat and her hand. He was the possibility of the matter was the fact\n",
            "that interrupted him to say.\n",
            "\n",
            "\"Why does it won't? He's not could be all the work at me, I am very glad to see the\n",
            "who has a peasant. And how is it it is!\"\n",
            "\n",
            "\"No, I don't know you and shall be a single change to suppose \n"
          ],
          "name": "stdout"
        }
      ]
    },
    {
      "cell_type": "code",
      "metadata": {
        "id": "EZK6L9fAsWqp",
        "colab_type": "code",
        "colab": {}
      },
      "source": [
        ""
      ],
      "execution_count": 35,
      "outputs": []
    }
  ]
}